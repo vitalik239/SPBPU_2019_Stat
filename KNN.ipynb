{
 "cells": [
  {
   "cell_type": "markdown",
   "metadata": {},
   "source": [
    "## Метод K-ближайших соседов  \n",
    "### Для базе данных \"winequality-white\"\n",
    "Выполнено:\n",
    "    Лавриченко О.\n",
    "    Дунаева О.\n",
    "    Пластинин В.\n"
   ]
  },
  {
   "cell_type": "markdown",
   "metadata": {},
   "source": [
    "### I Подготовка данных"
   ]
  },
  {
   "cell_type": "markdown",
   "metadata": {},
   "source": [
    "Импортируем все требуемые библиотеки:"
   ]
  },
  {
   "cell_type": "code",
   "execution_count": 1,
   "metadata": {},
   "outputs": [],
   "source": [
    "import pandas as pd\n",
    "import matplotlib\n",
    "import matplotlib.pyplot as plt\n",
    "matplotlib.style.use('ggplot')\n",
    "%matplotlib inline\n",
    "from sklearn.cluster import KMeans\n",
    "from sklearn.preprocessing import StandardScaler\n",
    "from sklearn.preprocessing import normalize\n",
    "from sklearn.metrics import accuracy_score, make_scorer\n",
    "from sklearn.model_selection import train_test_split, GridSearchCV, StratifiedKFold\n",
    "import numpy as np\n",
    "from sklearn.linear_model import LassoCV\n",
    "from sklearn.linear_model import Lasso\n",
    "import os\n",
    "from sklearn.metrics import accuracy_score\n",
    "from sklearn.feature_selection import SelectFromModel\n",
    "from mlxtend.feature_selection import SequentialFeatureSelector as sfs"
   ]
  },
  {
   "cell_type": "markdown",
   "metadata": {},
   "source": [
    "Самое важное установить зерно рандома"
   ]
  },
  {
   "cell_type": "code",
   "execution_count": 2,
   "metadata": {},
   "outputs": [],
   "source": [
    "np.random.seed(32)"
   ]
  },
  {
   "cell_type": "markdown",
   "metadata": {},
   "source": [
    "#### Посмотрим данные:"
   ]
  },
  {
   "cell_type": "code",
   "execution_count": 3,
   "metadata": {},
   "outputs": [],
   "source": [
    "df = pd.read_csv(\"winequality-white.csv\", sep=\";\")"
   ]
  },
  {
   "cell_type": "code",
   "execution_count": 4,
   "metadata": {},
   "outputs": [
    {
     "data": {
      "text/html": [
       "<div>\n",
       "<style scoped>\n",
       "    .dataframe tbody tr th:only-of-type {\n",
       "        vertical-align: middle;\n",
       "    }\n",
       "\n",
       "    .dataframe tbody tr th {\n",
       "        vertical-align: top;\n",
       "    }\n",
       "\n",
       "    .dataframe thead th {\n",
       "        text-align: right;\n",
       "    }\n",
       "</style>\n",
       "<table border=\"1\" class=\"dataframe\">\n",
       "  <thead>\n",
       "    <tr style=\"text-align: right;\">\n",
       "      <th></th>\n",
       "      <th>fixed acidity</th>\n",
       "      <th>volatile acidity</th>\n",
       "      <th>citric acid</th>\n",
       "      <th>residual sugar</th>\n",
       "      <th>chlorides</th>\n",
       "      <th>free sulfur dioxide</th>\n",
       "      <th>total sulfur dioxide</th>\n",
       "      <th>density</th>\n",
       "      <th>pH</th>\n",
       "      <th>sulphates</th>\n",
       "      <th>alcohol</th>\n",
       "    </tr>\n",
       "  </thead>\n",
       "  <tbody>\n",
       "    <tr>\n",
       "      <th>0</th>\n",
       "      <td>7.0</td>\n",
       "      <td>0.27</td>\n",
       "      <td>0.36</td>\n",
       "      <td>20.7</td>\n",
       "      <td>0.045</td>\n",
       "      <td>45.0</td>\n",
       "      <td>170.0</td>\n",
       "      <td>1.0010</td>\n",
       "      <td>3.00</td>\n",
       "      <td>0.45</td>\n",
       "      <td>8.8</td>\n",
       "    </tr>\n",
       "    <tr>\n",
       "      <th>1</th>\n",
       "      <td>6.3</td>\n",
       "      <td>0.30</td>\n",
       "      <td>0.34</td>\n",
       "      <td>1.6</td>\n",
       "      <td>0.049</td>\n",
       "      <td>14.0</td>\n",
       "      <td>132.0</td>\n",
       "      <td>0.9940</td>\n",
       "      <td>3.30</td>\n",
       "      <td>0.49</td>\n",
       "      <td>9.5</td>\n",
       "    </tr>\n",
       "    <tr>\n",
       "      <th>2</th>\n",
       "      <td>8.1</td>\n",
       "      <td>0.28</td>\n",
       "      <td>0.40</td>\n",
       "      <td>6.9</td>\n",
       "      <td>0.050</td>\n",
       "      <td>30.0</td>\n",
       "      <td>97.0</td>\n",
       "      <td>0.9951</td>\n",
       "      <td>3.26</td>\n",
       "      <td>0.44</td>\n",
       "      <td>10.1</td>\n",
       "    </tr>\n",
       "    <tr>\n",
       "      <th>3</th>\n",
       "      <td>7.2</td>\n",
       "      <td>0.23</td>\n",
       "      <td>0.32</td>\n",
       "      <td>8.5</td>\n",
       "      <td>0.058</td>\n",
       "      <td>47.0</td>\n",
       "      <td>186.0</td>\n",
       "      <td>0.9956</td>\n",
       "      <td>3.19</td>\n",
       "      <td>0.40</td>\n",
       "      <td>9.9</td>\n",
       "    </tr>\n",
       "    <tr>\n",
       "      <th>4</th>\n",
       "      <td>7.2</td>\n",
       "      <td>0.23</td>\n",
       "      <td>0.32</td>\n",
       "      <td>8.5</td>\n",
       "      <td>0.058</td>\n",
       "      <td>47.0</td>\n",
       "      <td>186.0</td>\n",
       "      <td>0.9956</td>\n",
       "      <td>3.19</td>\n",
       "      <td>0.40</td>\n",
       "      <td>9.9</td>\n",
       "    </tr>\n",
       "  </tbody>\n",
       "</table>\n",
       "</div>"
      ],
      "text/plain": [
       "   fixed acidity  volatile acidity  citric acid  residual sugar  chlorides  \\\n",
       "0            7.0              0.27         0.36            20.7      0.045   \n",
       "1            6.3              0.30         0.34             1.6      0.049   \n",
       "2            8.1              0.28         0.40             6.9      0.050   \n",
       "3            7.2              0.23         0.32             8.5      0.058   \n",
       "4            7.2              0.23         0.32             8.5      0.058   \n",
       "\n",
       "   free sulfur dioxide  total sulfur dioxide  density    pH  sulphates  \\\n",
       "0                 45.0                 170.0   1.0010  3.00       0.45   \n",
       "1                 14.0                 132.0   0.9940  3.30       0.49   \n",
       "2                 30.0                  97.0   0.9951  3.26       0.44   \n",
       "3                 47.0                 186.0   0.9956  3.19       0.40   \n",
       "4                 47.0                 186.0   0.9956  3.19       0.40   \n",
       "\n",
       "   alcohol  \n",
       "0      8.8  \n",
       "1      9.5  \n",
       "2     10.1  \n",
       "3      9.9  \n",
       "4      9.9  "
      ]
     },
     "execution_count": 4,
     "metadata": {},
     "output_type": "execute_result"
    }
   ],
   "source": [
    "y=df[\"quality\"]\n",
    "df=df.drop(\"quality\", axis=1)\n",
    "df.head()"
   ]
  },
  {
   "cell_type": "code",
   "execution_count": 5,
   "metadata": {},
   "outputs": [
    {
     "name": "stdout",
     "output_type": "stream",
     "text": [
      "fixed acidity\n",
      "6.80     308\n",
      "6.60     290\n",
      "6.40     280\n",
      "6.90     241\n",
      "6.70     236\n",
      "        ... \n",
      "6.45       1\n",
      "3.80       1\n",
      "14.20      1\n",
      "10.20      1\n",
      "3.90       1\n",
      "Name: fixed acidity, Length: 68, dtype: int64\n",
      "0\n",
      "______________________________________\n",
      "volatile acidity\n",
      "0.280    263\n",
      "0.240    253\n",
      "0.260    240\n",
      "0.250    231\n",
      "0.220    229\n",
      "        ... \n",
      "0.355      1\n",
      "0.215      1\n",
      "0.740      1\n",
      "0.090      1\n",
      "0.405      1\n",
      "Name: volatile acidity, Length: 125, dtype: int64\n",
      "0\n",
      "______________________________________\n",
      "citric acid\n",
      "0.30    307\n",
      "0.28    282\n",
      "0.32    257\n",
      "0.34    225\n",
      "0.29    223\n",
      "       ... \n",
      "1.66      1\n",
      "0.11      1\n",
      "0.86      1\n",
      "0.99      1\n",
      "1.23      1\n",
      "Name: citric acid, Length: 87, dtype: int64\n",
      "0\n",
      "______________________________________\n",
      "residual sugar\n",
      "1.20     187\n",
      "1.40     184\n",
      "1.60     165\n",
      "1.30     147\n",
      "1.10     146\n",
      "        ... \n",
      "12.75      1\n",
      "6.55       1\n",
      "8.55       1\n",
      "5.55       1\n",
      "7.85       1\n",
      "Name: residual sugar, Length: 310, dtype: int64\n",
      "0\n",
      "______________________________________\n",
      "chlorides\n",
      "0.044    201\n",
      "0.036    200\n",
      "0.042    184\n",
      "0.040    182\n",
      "0.046    181\n",
      "        ... \n",
      "0.171      1\n",
      "0.150      1\n",
      "0.144      1\n",
      "0.145      1\n",
      "0.211      1\n",
      "Name: chlorides, Length: 160, dtype: int64\n",
      "0\n",
      "______________________________________\n",
      "free sulfur dioxide\n",
      "29.0     160\n",
      "31.0     132\n",
      "26.0     129\n",
      "35.0     129\n",
      "34.0     128\n",
      "        ... \n",
      "122.5      1\n",
      "112.0      1\n",
      "2.0        1\n",
      "128.0      1\n",
      "118.5      1\n",
      "Name: free sulfur dioxide, Length: 132, dtype: int64\n",
      "0\n",
      "______________________________________\n",
      "total sulfur dioxide\n",
      "111.0    69\n",
      "113.0    61\n",
      "117.0    57\n",
      "118.0    55\n",
      "128.0    54\n",
      "         ..\n",
      "10.0      1\n",
      "44.0      1\n",
      "313.0     1\n",
      "19.0      1\n",
      "234.5     1\n",
      "Name: total sulfur dioxide, Length: 251, dtype: int64\n",
      "0\n",
      "______________________________________\n",
      "density\n",
      "0.99200    64\n",
      "0.99280    61\n",
      "0.99320    53\n",
      "0.99300    52\n",
      "0.99340    50\n",
      "           ..\n",
      "0.99037     1\n",
      "0.99608     1\n",
      "0.98947     1\n",
      "0.98880     1\n",
      "0.99656     1\n",
      "Name: density, Length: 890, dtype: int64\n",
      "0\n",
      "______________________________________\n",
      "pH\n",
      "3.14    172\n",
      "3.16    164\n",
      "3.22    146\n",
      "3.19    145\n",
      "3.18    138\n",
      "       ... \n",
      "3.79      1\n",
      "2.84      1\n",
      "2.74      1\n",
      "3.81      1\n",
      "2.82      1\n",
      "Name: pH, Length: 103, dtype: int64\n",
      "0\n",
      "______________________________________\n",
      "sulphates\n",
      "0.50    249\n",
      "0.46    225\n",
      "0.44    216\n",
      "0.38    214\n",
      "0.42    181\n",
      "       ... \n",
      "0.89      1\n",
      "1.06      1\n",
      "0.22      1\n",
      "0.23      1\n",
      "0.99      1\n",
      "Name: sulphates, Length: 79, dtype: int64\n",
      "0\n",
      "______________________________________\n",
      "alcohol\n",
      "9.400000     229\n",
      "9.500000     228\n",
      "9.200000     199\n",
      "9.000000     185\n",
      "10.000000    162\n",
      "            ... \n",
      "9.633333       1\n",
      "11.466667      1\n",
      "10.650000      1\n",
      "13.133333      1\n",
      "11.550000      1\n",
      "Name: alcohol, Length: 103, dtype: int64\n",
      "0\n",
      "______________________________________\n"
     ]
    }
   ],
   "source": [
    "def sum_value(df):\n",
    "    for i in df.columns.values:\n",
    "        print(i)\n",
    "        print(df[i].value_counts())\n",
    "        print(df[i].isna().sum())\n",
    "        print(\"______________________________________\")\n",
    "sum_value(df)"
   ]
  },
  {
   "cell_type": "markdown",
   "metadata": {},
   "source": [
    "Пропусков нет - супер! \n",
    "#### Нормализация данных \n"
   ]
  },
  {
   "cell_type": "code",
   "execution_count": 6,
   "metadata": {},
   "outputs": [],
   "source": [
    "def normalization(df, column, minim, maxim):\n",
    "    X_std = (df[column] - minim) / (maxim - minim)\n",
    "    return X_std"
   ]
  },
  {
   "cell_type": "code",
   "execution_count": 7,
   "metadata": {},
   "outputs": [
    {
     "data": {
      "image/png": "[encoded data removed]",
      "text/plain": [
       "<Figure size 432x288 with 2 Axes>"
      ]
     },
     "metadata": {},
     "output_type": "display_data"
    }
   ],
   "source": [
    "fig, ax = plt.subplots(1, 2)\n",
    "ax[0].set_title('total sulfur dioxide')\n",
    "ax[0].hist(df[\"total sulfur dioxide\"])\n",
    "ax[1].hist(df[\"residual sugar\"])\n",
    "ax[1].set_title(\"residual sugar\")\n",
    "plt.show()\n"
   ]
  },
  {
   "cell_type": "code",
   "execution_count": 8,
   "metadata": {},
   "outputs": [
    {
     "data": {
      "text/html": [
       "<div>\n",
       "<style scoped>\n",
       "    .dataframe tbody tr th:only-of-type {\n",
       "        vertical-align: middle;\n",
       "    }\n",
       "\n",
       "    .dataframe tbody tr th {\n",
       "        vertical-align: top;\n",
       "    }\n",
       "\n",
       "    .dataframe thead th {\n",
       "        text-align: right;\n",
       "    }\n",
       "</style>\n",
       "<table border=\"1\" class=\"dataframe\">\n",
       "  <thead>\n",
       "    <tr style=\"text-align: right;\">\n",
       "      <th></th>\n",
       "      <th>fixed acidity</th>\n",
       "      <th>volatile acidity</th>\n",
       "      <th>citric acid</th>\n",
       "      <th>residual sugar</th>\n",
       "      <th>chlorides</th>\n",
       "      <th>free sulfur dioxide</th>\n",
       "      <th>total sulfur dioxide</th>\n",
       "      <th>density</th>\n",
       "      <th>pH</th>\n",
       "      <th>sulphates</th>\n",
       "      <th>alcohol</th>\n",
       "    </tr>\n",
       "  </thead>\n",
       "  <tbody>\n",
       "    <tr>\n",
       "      <th>0</th>\n",
       "      <td>0.307692</td>\n",
       "      <td>0.186275</td>\n",
       "      <td>0.216867</td>\n",
       "      <td>0.308282</td>\n",
       "      <td>0.106825</td>\n",
       "      <td>0.149826</td>\n",
       "      <td>0.373550</td>\n",
       "      <td>0.267785</td>\n",
       "      <td>0.254545</td>\n",
       "      <td>0.267442</td>\n",
       "      <td>0.129032</td>\n",
       "    </tr>\n",
       "    <tr>\n",
       "      <th>1</th>\n",
       "      <td>0.240385</td>\n",
       "      <td>0.215686</td>\n",
       "      <td>0.204819</td>\n",
       "      <td>0.015337</td>\n",
       "      <td>0.118694</td>\n",
       "      <td>0.041812</td>\n",
       "      <td>0.285383</td>\n",
       "      <td>0.132832</td>\n",
       "      <td>0.527273</td>\n",
       "      <td>0.313953</td>\n",
       "      <td>0.241935</td>\n",
       "    </tr>\n",
       "    <tr>\n",
       "      <th>2</th>\n",
       "      <td>0.413462</td>\n",
       "      <td>0.196078</td>\n",
       "      <td>0.240964</td>\n",
       "      <td>0.096626</td>\n",
       "      <td>0.121662</td>\n",
       "      <td>0.097561</td>\n",
       "      <td>0.204176</td>\n",
       "      <td>0.154039</td>\n",
       "      <td>0.490909</td>\n",
       "      <td>0.255814</td>\n",
       "      <td>0.338710</td>\n",
       "    </tr>\n",
       "    <tr>\n",
       "      <th>3</th>\n",
       "      <td>0.326923</td>\n",
       "      <td>0.147059</td>\n",
       "      <td>0.192771</td>\n",
       "      <td>0.121166</td>\n",
       "      <td>0.145401</td>\n",
       "      <td>0.156794</td>\n",
       "      <td>0.410673</td>\n",
       "      <td>0.163678</td>\n",
       "      <td>0.427273</td>\n",
       "      <td>0.209302</td>\n",
       "      <td>0.306452</td>\n",
       "    </tr>\n",
       "    <tr>\n",
       "      <th>4</th>\n",
       "      <td>0.326923</td>\n",
       "      <td>0.147059</td>\n",
       "      <td>0.192771</td>\n",
       "      <td>0.121166</td>\n",
       "      <td>0.145401</td>\n",
       "      <td>0.156794</td>\n",
       "      <td>0.410673</td>\n",
       "      <td>0.163678</td>\n",
       "      <td>0.427273</td>\n",
       "      <td>0.209302</td>\n",
       "      <td>0.306452</td>\n",
       "    </tr>\n",
       "  </tbody>\n",
       "</table>\n",
       "</div>"
      ],
      "text/plain": [
       "   fixed acidity  volatile acidity  citric acid  residual sugar  chlorides  \\\n",
       "0       0.307692          0.186275     0.216867        0.308282   0.106825   \n",
       "1       0.240385          0.215686     0.204819        0.015337   0.118694   \n",
       "2       0.413462          0.196078     0.240964        0.096626   0.121662   \n",
       "3       0.326923          0.147059     0.192771        0.121166   0.145401   \n",
       "4       0.326923          0.147059     0.192771        0.121166   0.145401   \n",
       "\n",
       "   free sulfur dioxide  total sulfur dioxide   density        pH  sulphates  \\\n",
       "0             0.149826              0.373550  0.267785  0.254545   0.267442   \n",
       "1             0.041812              0.285383  0.132832  0.527273   0.313953   \n",
       "2             0.097561              0.204176  0.154039  0.490909   0.255814   \n",
       "3             0.156794              0.410673  0.163678  0.427273   0.209302   \n",
       "4             0.156794              0.410673  0.163678  0.427273   0.209302   \n",
       "\n",
       "    alcohol  \n",
       "0  0.129032  \n",
       "1  0.241935  \n",
       "2  0.338710  \n",
       "3  0.306452  \n",
       "4  0.306452  "
      ]
     },
     "execution_count": 8,
     "metadata": {},
     "output_type": "execute_result"
    }
   ],
   "source": [
    "for _ in df.columns:\n",
    "    df[_]=normalization(df, _, df[_].min(), df[_].max())\n",
    "df.head()"
   ]
  },
  {
   "cell_type": "code",
   "execution_count": 9,
   "metadata": {},
   "outputs": [
    {
     "data": {
      "image/png": "[encoded data removed]",
      "text/plain": [
       "<Figure size 432x288 with 2 Axes>"
      ]
     },
     "metadata": {},
     "output_type": "display_data"
    }
   ],
   "source": [
    "fig, ax = plt.subplots(1, 2)\n",
    "ax[0].set_title('total sulfur dioxide')\n",
    "ax[0].hist(df[\"total sulfur dioxide\"])\n",
    "ax[1].hist(df[\"residual sugar\"])\n",
    "ax[1].set_title(\"residual sugar\")\n",
    "plt.show()\n",
    "\n"
   ]
  },
  {
   "cell_type": "markdown",
   "metadata": {},
   "source": [
    "Итого все данные приведены к интервалу [0;1]"
   ]
  },
  {
   "cell_type": "markdown",
   "metadata": {},
   "source": [
    "#### Попытаемся найти выбросы. \n",
    "Определим с помощью \"ящика с усами\""
   ]
  },
  {
   "cell_type": "code",
   "execution_count": 10,
   "metadata": {},
   "outputs": [
    {
     "data": {
      "image/png": "[encoded data removed]",
      "text/plain": [
       "<Figure size 432x288 with 1 Axes>"
      ]
     },
     "metadata": {},
     "output_type": "display_data"
    },
    {
     "data": {
      "image/png": "[encoded data removed]",
      "text/plain": [
       "<Figure size 432x288 with 1 Axes>"
      ]
     },
     "metadata": {},
     "output_type": "display_data"
    },
    {
     "data": {
      "image/png": "[encoded data removed]",
      "text/plain": [
       "<Figure size 432x288 with 1 Axes>"
      ]
     },
     "metadata": {},
     "output_type": "display_data"
    },
    {
     "data": {
      "image/png": "[encoded data removed]",
      "text/plain": [
       "<Figure size 432x288 with 1 Axes>"
      ]
     },
     "metadata": {},
     "output_type": "display_data"
    },
    {
     "data": {
      "image/png": "[encoded data removed]",
      "text/plain": [
       "<Figure size 432x288 with 1 Axes>"
      ]
     },
     "metadata": {},
     "output_type": "display_data"
    },
    {
     "data": {
      "image/png": "[encoded data removed]",
      "text/plain": [
       "<Figure size 432x288 with 1 Axes>"
      ]
     },
     "metadata": {},
     "output_type": "display_data"
    },
    {
     "data": {
      "image/png": "[encoded data removed]",
      "text/plain": [
       "<Figure size 432x288 with 1 Axes>"
      ]
     },
     "metadata": {},
     "output_type": "display_data"
    },
    {
     "data": {
      "image/png": "[encoded data removed]",
      "text/plain": [
       "<Figure size 432x288 with 1 Axes>"
      ]
     },
     "metadata": {},
     "output_type": "display_data"
    },
    {
     "data": {
      "image/png": "[encoded data removed]",
      "text/plain": [
       "<Figure size 432x288 with 1 Axes>"
      ]
     },
     "metadata": {},
     "output_type": "display_data"
    },
    {
     "data": {
      "image/png": "[encoded data removed]",
      "text/plain": [
       "<Figure size 432x288 with 1 Axes>"
      ]
     },
     "metadata": {},
     "output_type": "display_data"
    },
    {
     "data": {
      "image/png": "[encoded data removed]",
      "text/plain": [
       "<Figure size 432x288 with 1 Axes>"
      ]
     },
     "metadata": {},
     "output_type": "display_data"
    }
   ],
   "source": [
    "for _ in df.columns:\n",
    "    fig, ax = plt.subplots()\n",
    "    ax.set_title('Basic Plot '+_)\n",
    "    ax.boxplot(df[_])\n",
    "    plt.show()"
   ]
  },
  {
   "cell_type": "markdown",
   "metadata": {},
   "source": [
    "### II Настройка модели "
   ]
  },
  {
   "cell_type": "markdown",
   "metadata": {},
   "source": [
    "#### Отбор фичей "
   ]
  },
  {
   "cell_type": "code",
   "execution_count": 11,
   "metadata": {},
   "outputs": [
    {
     "data": {
      "text/html": [
       "<div>\n",
       "<style scoped>\n",
       "    .dataframe tbody tr th:only-of-type {\n",
       "        vertical-align: middle;\n",
       "    }\n",
       "\n",
       "    .dataframe tbody tr th {\n",
       "        vertical-align: top;\n",
       "    }\n",
       "\n",
       "    .dataframe thead th {\n",
       "        text-align: right;\n",
       "    }\n",
       "</style>\n",
       "<table border=\"1\" class=\"dataframe\">\n",
       "  <thead>\n",
       "    <tr style=\"text-align: right;\">\n",
       "      <th></th>\n",
       "      <th>fixed acidity</th>\n",
       "      <th>volatile acidity</th>\n",
       "      <th>citric acid</th>\n",
       "      <th>residual sugar</th>\n",
       "      <th>chlorides</th>\n",
       "      <th>free sulfur dioxide</th>\n",
       "      <th>total sulfur dioxide</th>\n",
       "      <th>density</th>\n",
       "      <th>pH</th>\n",
       "      <th>sulphates</th>\n",
       "      <th>alcohol</th>\n",
       "    </tr>\n",
       "  </thead>\n",
       "  <tbody>\n",
       "    <tr>\n",
       "      <th>0</th>\n",
       "      <td>0.307692</td>\n",
       "      <td>0.186275</td>\n",
       "      <td>0.216867</td>\n",
       "      <td>0.308282</td>\n",
       "      <td>0.106825</td>\n",
       "      <td>0.149826</td>\n",
       "      <td>0.373550</td>\n",
       "      <td>0.267785</td>\n",
       "      <td>0.254545</td>\n",
       "      <td>0.267442</td>\n",
       "      <td>0.129032</td>\n",
       "    </tr>\n",
       "    <tr>\n",
       "      <th>1</th>\n",
       "      <td>0.240385</td>\n",
       "      <td>0.215686</td>\n",
       "      <td>0.204819</td>\n",
       "      <td>0.015337</td>\n",
       "      <td>0.118694</td>\n",
       "      <td>0.041812</td>\n",
       "      <td>0.285383</td>\n",
       "      <td>0.132832</td>\n",
       "      <td>0.527273</td>\n",
       "      <td>0.313953</td>\n",
       "      <td>0.241935</td>\n",
       "    </tr>\n",
       "    <tr>\n",
       "      <th>2</th>\n",
       "      <td>0.413462</td>\n",
       "      <td>0.196078</td>\n",
       "      <td>0.240964</td>\n",
       "      <td>0.096626</td>\n",
       "      <td>0.121662</td>\n",
       "      <td>0.097561</td>\n",
       "      <td>0.204176</td>\n",
       "      <td>0.154039</td>\n",
       "      <td>0.490909</td>\n",
       "      <td>0.255814</td>\n",
       "      <td>0.338710</td>\n",
       "    </tr>\n",
       "    <tr>\n",
       "      <th>3</th>\n",
       "      <td>0.326923</td>\n",
       "      <td>0.147059</td>\n",
       "      <td>0.192771</td>\n",
       "      <td>0.121166</td>\n",
       "      <td>0.145401</td>\n",
       "      <td>0.156794</td>\n",
       "      <td>0.410673</td>\n",
       "      <td>0.163678</td>\n",
       "      <td>0.427273</td>\n",
       "      <td>0.209302</td>\n",
       "      <td>0.306452</td>\n",
       "    </tr>\n",
       "    <tr>\n",
       "      <th>4</th>\n",
       "      <td>0.326923</td>\n",
       "      <td>0.147059</td>\n",
       "      <td>0.192771</td>\n",
       "      <td>0.121166</td>\n",
       "      <td>0.145401</td>\n",
       "      <td>0.156794</td>\n",
       "      <td>0.410673</td>\n",
       "      <td>0.163678</td>\n",
       "      <td>0.427273</td>\n",
       "      <td>0.209302</td>\n",
       "      <td>0.306452</td>\n",
       "    </tr>\n",
       "  </tbody>\n",
       "</table>\n",
       "</div>"
      ],
      "text/plain": [
       "   fixed acidity  volatile acidity  citric acid  residual sugar  chlorides  \\\n",
       "0       0.307692          0.186275     0.216867        0.308282   0.106825   \n",
       "1       0.240385          0.215686     0.204819        0.015337   0.118694   \n",
       "2       0.413462          0.196078     0.240964        0.096626   0.121662   \n",
       "3       0.326923          0.147059     0.192771        0.121166   0.145401   \n",
       "4       0.326923          0.147059     0.192771        0.121166   0.145401   \n",
       "\n",
       "   free sulfur dioxide  total sulfur dioxide   density        pH  sulphates  \\\n",
       "0             0.149826              0.373550  0.267785  0.254545   0.267442   \n",
       "1             0.041812              0.285383  0.132832  0.527273   0.313953   \n",
       "2             0.097561              0.204176  0.154039  0.490909   0.255814   \n",
       "3             0.156794              0.410673  0.163678  0.427273   0.209302   \n",
       "4             0.156794              0.410673  0.163678  0.427273   0.209302   \n",
       "\n",
       "    alcohol  \n",
       "0  0.129032  \n",
       "1  0.241935  \n",
       "2  0.338710  \n",
       "3  0.306452  \n",
       "4  0.306452  "
      ]
     },
     "execution_count": 11,
     "metadata": {},
     "output_type": "execute_result"
    }
   ],
   "source": [
    "df.head()"
   ]
  },
  {
   "cell_type": "markdown",
   "metadata": {},
   "source": [
    "Для отбора фичей будем использовать метод Лассо, это очень важно в случае KNN,  потому что есть \"проклятье размерности\""
   ]
  },
  {
   "cell_type": "code",
   "execution_count": 12,
   "metadata": {},
   "outputs": [],
   "source": [
    "clf = LassoCV()\n",
    "sfm = SelectFromModel(clf, threshold=0.1)"
   ]
  },
  {
   "cell_type": "code",
   "execution_count": 13,
   "metadata": {},
   "outputs": [
    {
     "name": "stderr",
     "output_type": "stream",
     "text": [
      "/Users/olgalavricenko/anaconda3/lib/python3.6/site-packages/sklearn/model_selection/_split.py:2053: FutureWarning: You should specify a value for 'cv' instead of relying on the default value. The default value will change from 3 to 5 in version 0.22.\n",
      "  warnings.warn(CV_WARNING, FutureWarning)\n"
     ]
    },
    {
     "data": {
      "text/plain": [
       "SelectFromModel(estimator=LassoCV(alphas=None, copy_X=True, cv='warn', eps=0.001, fit_intercept=True,\n",
       "    max_iter=1000, n_alphas=100, n_jobs=None, normalize=False,\n",
       "    positive=False, precompute='auto', random_state=None,\n",
       "    selection='cyclic', tol=0.0001, verbose=False),\n",
       "        max_features=None, norm_order=1, prefit=False, threshold=0.1)"
      ]
     },
     "execution_count": 13,
     "metadata": {},
     "output_type": "execute_result"
    }
   ],
   "source": [
    "sfm.fit(df,y)"
   ]
  },
  {
   "cell_type": "code",
   "execution_count": 14,
   "metadata": {},
   "outputs": [
    {
     "name": "stdout",
     "output_type": "stream",
     "text": [
      "[[0.30769231 0.18627451 0.30828221 ... 0.25454545 0.26744186 0.12903226]\n",
      " [0.24038462 0.21568627 0.01533742 ... 0.52727273 0.31395349 0.24193548]\n",
      " [0.41346154 0.19607843 0.09662577 ... 0.49090909 0.25581395 0.33870968]\n",
      " ...\n",
      " [0.25961538 0.15686275 0.00920245 ... 0.24545455 0.27906977 0.22580645]\n",
      " [0.16346154 0.20588235 0.00766871 ... 0.56363636 0.18604651 0.77419355]\n",
      " [0.21153846 0.12745098 0.00306748 ... 0.49090909 0.11627907 0.61290323]]\n"
     ]
    }
   ],
   "source": [
    "dfnew=sfm.transform(df)\n",
    "print(dfnew)"
   ]
  },
  {
   "cell_type": "markdown",
   "metadata": {},
   "source": [
    "#### Подготовка обучающей и тестирующей выборки "
   ]
  },
  {
   "cell_type": "code",
   "execution_count": 15,
   "metadata": {},
   "outputs": [],
   "source": [
    "X_train, X_test, y_train, y_test = train_test_split(\n",
    "    df,\n",
    "    y,\n",
    "    test_size=0.1,\n",
    "    random_state=32)\n"
   ]
  },
  {
   "cell_type": "markdown",
   "metadata": {},
   "source": [
    "### III Настройка модели "
   ]
  },
  {
   "cell_type": "code",
   "execution_count": 16,
   "metadata": {},
   "outputs": [],
   "source": [
    "def plot(y_arr,x_arr, ylabel, xlabel,fun=1):\n",
    "  \n",
    "    plt.figure()\n",
    "    if (fun>1):\n",
    "        for i in range(y_arr.shape[0]):\n",
    "            plt.plot( x_arr,y_arr[i], color[i])\n",
    "    else:\n",
    "        plt.plot(x_arr,y_arr,'k')\n",
    "    plt.ylabel(ylabel)\n",
    "    plt.xlabel(xlabel)\n",
    "    plt.show()\n"
   ]
  },
  {
   "cell_type": "code",
   "execution_count": 17,
   "metadata": {},
   "outputs": [],
   "source": [
    "from sklearn.neighbors import KNeighborsClassifier"
   ]
  },
  {
   "cell_type": "code",
   "execution_count": 18,
   "metadata": {},
   "outputs": [],
   "source": [
    "cl=[]\n",
    "au=[]\n",
    "X_train, X_test, y_train, y_test = train_test_split(dfnew, y, test_size=0.1, random_state=32)\n",
    "for i in range(10,100,5):\n",
    "    cl.append(i)\n",
    "    model = KNeighborsClassifier(n_neighbors=i, algorithm='kd_tree', metric='euclidean')\n",
    "    model.fit(X_train, y_train) \n",
    "    au.append(accuracy_score(y_test,model.predict(X_test) )) \n"
   ]
  },
  {
   "cell_type": "code",
   "execution_count": 19,
   "metadata": {},
   "outputs": [
    {
     "data": {
      "image/png": "[encoded data removed]",
      "text/plain": [
       "<Figure size 432x288 with 1 Axes>"
      ]
     },
     "metadata": {},
     "output_type": "display_data"
    }
   ],
   "source": [
    "plot(au,cl,\"Точность\", \"Кол-во соседей\")"
   ]
  },
  {
   "cell_type": "markdown",
   "metadata": {},
   "source": [
    "Заметим 35 соседа дают оптимальную точность"
   ]
  },
  {
   "cell_type": "markdown",
   "metadata": {},
   "source": [
    "#### Подсчет точности"
   ]
  },
  {
   "cell_type": "code",
   "execution_count": 20,
   "metadata": {},
   "outputs": [
    {
     "data": {
      "text/plain": [
       "KNeighborsClassifier(algorithm='kd_tree', leaf_size=30, metric='euclidean',\n",
       "           metric_params=None, n_jobs=None, n_neighbors=55, p=2,\n",
       "           weights='uniform')"
      ]
     },
     "execution_count": 20,
     "metadata": {},
     "output_type": "execute_result"
    }
   ],
   "source": [
    "model = KNeighborsClassifier(n_neighbors=55, algorithm='kd_tree', metric='euclidean')\n",
    "model.fit(X_train, y_train) "
   ]
  },
  {
   "cell_type": "code",
   "execution_count": 21,
   "metadata": {},
   "outputs": [
    {
     "name": "stdout",
     "output_type": "stream",
     "text": [
      "0.5918367346938775\n"
     ]
    }
   ],
   "source": [
    "y_pred_test=model.predict(X_test)\n",
    "y_pred_train=model.predict(X_train)\n",
    "Accuracy=accuracy_score(y_test,y_pred_test)\n",
    "print(Accuracy)"
   ]
  },
  {
   "cell_type": "markdown",
   "metadata": {},
   "source": [
    "Осталось дело в подсчете устойчивости модели + статистические оценки точности \n"
   ]
  },
  {
   "cell_type": "code",
   "execution_count": 22,
   "metadata": {},
   "outputs": [
    {
     "name": "stdout",
     "output_type": "stream",
     "text": [
      "[[   0    0    7    8    0    0    0]\n",
      " [   0    0   84   62    2    0    0]\n",
      " [   0    0  774  527   20    0    0]\n",
      " [   0    0  384 1439  142    0    0]\n",
      " [   0    0   17  524  255    0    0]\n",
      " [   0    0    1   99   58    0    0]\n",
      " [   0    0    0    2    3    0    0]]\n",
      "              precision    recall  f1-score   support\n",
      "\n",
      "           3       0.00      0.00      0.00        15\n",
      "           4       0.00      0.00      0.00       148\n",
      "           5       0.61      0.59      0.60      1321\n",
      "           6       0.54      0.73      0.62      1965\n",
      "           7       0.53      0.32      0.40       796\n",
      "           8       0.00      0.00      0.00       158\n",
      "           9       0.00      0.00      0.00         5\n",
      "\n",
      "   micro avg       0.56      0.56      0.56      4408\n",
      "   macro avg       0.24      0.23      0.23      4408\n",
      "weighted avg       0.52      0.56      0.53      4408\n",
      "\n",
      "[[  0   0   2   3   0   0]\n",
      " [  0   0   9   6   0   0]\n",
      " [  0   0  78  56   2   0]\n",
      " [  0   0  45 173  15   0]\n",
      " [  0   0   3  42  39   0]\n",
      " [  0   0   0   7  10   0]]\n",
      "              precision    recall  f1-score   support\n",
      "\n",
      "           3       0.00      0.00      0.00         5\n",
      "           4       0.00      0.00      0.00        15\n",
      "           5       0.57      0.57      0.57       136\n",
      "           6       0.60      0.74      0.67       233\n",
      "           7       0.59      0.46      0.52        84\n",
      "           8       0.00      0.00      0.00        17\n",
      "\n",
      "   micro avg       0.59      0.59      0.59       490\n",
      "   macro avg       0.29      0.30      0.29       490\n",
      "weighted avg       0.55      0.59      0.56       490\n",
      "\n"
     ]
    },
    {
     "name": "stderr",
     "output_type": "stream",
     "text": [
      "/Users/olgalavricenko/anaconda3/lib/python3.6/site-packages/sklearn/metrics/classification.py:1143: UndefinedMetricWarning: Precision and F-score are ill-defined and being set to 0.0 in labels with no predicted samples.\n",
      "  'precision', 'predicted', average, warn_for)\n"
     ]
    }
   ],
   "source": [
    "from sklearn.metrics import classification_report, confusion_matrix  \n",
    "\n",
    "\n",
    "print(confusion_matrix(y_train, y_pred_train))  \n",
    "print(classification_report(y_train, y_pred_train)) \n",
    "print(confusion_matrix(y_test, y_pred_test))  \n",
    "print(classification_report(y_test, y_pred_test))  "
   ]
  },
  {
   "cell_type": "markdown",
   "metadata": {},
   "source": [
    "#### Оценка качества модели"
   ]
  },
  {
   "cell_type": "code",
   "execution_count": 23,
   "metadata": {},
   "outputs": [
    {
     "name": "stdout",
     "output_type": "stream",
     "text": [
      "0.5918367346938777 1.1102230246251565e-16\n"
     ]
    }
   ],
   "source": [
    "aucs=[]\n",
    "for i in range(100):\n",
    "    X_train, X_test, y_train, y_test = train_test_split(dfnew, y, test_size=0.1, random_state=32)\n",
    "\n",
    "    model = KNeighborsClassifier(n_neighbors=55, algorithm='kd_tree', metric='euclidean')\n",
    "    model.fit(X_train, y_train) \n",
    "    aucs.append(accuracy_score(y_test,model.predict(X_test) )) \n",
    "print( np.mean(aucs), np.std(aucs))"
   ]
  },
  {
   "cell_type": "markdown",
   "metadata": {},
   "source": [
    "Вывод: метод устойчив, так как разброс не значителен"
   ]
  },
  {
   "cell_type": "code",
   "execution_count": null,
   "metadata": {},
   "outputs": [],
   "source": []
  }
 ],
 "metadata": {
  "kernelspec": {
   "display_name": "Python 3",
   "language": "python",
   "name": "python3"
  },
  "language_info": {
   "codemirror_mode": {
    "name": "ipython",
    "version": 3
   },
   "file_extension": ".py",
   "mimetype": "text/x-python",
   "name": "python",
   "nbconvert_exporter": "python",
   "pygments_lexer": "ipython3",
   "version": "3.6.8"
  }
 },
 "nbformat": 4,
 "nbformat_minor": 2
}
